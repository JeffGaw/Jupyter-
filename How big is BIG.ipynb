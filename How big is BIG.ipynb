{
 "cells": [
  {
   "cell_type": "markdown",
   "metadata": {},
   "source": [
    "# How big is BIG?\n",
    "\n",
    "## In this Jupyter tutorial, we'll get an understanding of the size of large numbers.  But first, we need to review unit conversions and introduce coding in Python."
   ]
  },
  {
   "cell_type": "markdown",
   "metadata": {},
   "source": [
    "## The St. Louis Gateway Arch is 952.8 miles from Times Square.  Google says it would take 14 hours and 12 minutes (without traffic) to drive there at the posted speed limits.  How far is that in km?"
   ]
  },
  {
   "cell_type": "markdown",
   "metadata": {},
   "source": [
    "<img src=\"SmallThree.jpg\">"
   ]
  },
  {
   "cell_type": "markdown",
   "metadata": {},
   "source": [
    "$$952.8 mile \\Bigg ({1609 meter \\over {1 mile}}\\Bigg ) \\Bigg ({1 km \\over {1000 meter}}\\Bigg ) = \\hspace{2mm}? \\hspace{2mm}km$$"
   ]
  },
  {
   "cell_type": "markdown",
   "metadata": {},
   "source": [
    "### You would probably do the following ..."
   ]
  },
  {
   "cell_type": "markdown",
   "metadata": {},
   "source": [
    "### You would then use your calculator to actually do the computing.  It would look like this on a TI calculator."
   ]
  },
  {
   "cell_type": "markdown",
   "metadata": {},
   "source": [
    "<img src=\"Calculator1.jpg\">"
   ]
  },
  {
   "cell_type": "markdown",
   "metadata": {},
   "source": [
    "What if your were given the distance between the Arch and Times Square in inches and you were asked to convert it to millimeters (mm)?  You would probably do the following ...\n",
    "\n",
    "$$60369408 inch \\Bigg ({1.54 cm \\over {1 inch}}\\Bigg ) \\Bigg ({1 m \\over {100 cm}}\\Bigg ) \\Bigg ({100 mm \\over {1 m}}\\Bigg ) = \\hspace{2mm} 1.53338E+9\\hspace{2mm}mm$$\n",
    "\n",
    "What is $1.53338E+9$? It is short hand way of writing $1.533338x10^9$.  This is called E notation and is used by computers and caculators.  We'll use it a lot. To use E notation on your TI calculator, type in the number before the \"x10\" and then select 2nd and then the \", \" key (the letters EE will be above the key) directly above the 7. The E subsitutes for the \"x10\" expression.  Positive values for the exponent do not need the + sign, however, negative exponents do.  Use the (-) key at the bottom right of your calculator.  Only use the EE button to input numbers in scientific notation to your calculator. __Never__ try anything else as the resulting number will be wrong more often than correct.\n",
    "\n",
    "Make sure that you can do the above compuation on your calculator.  You will need to pay careful attention to parenthesis when using your TI calculator.  Your calculator works by mathematical order of operation, so if you forget a parenthesis you will get the incorrect result.  __BEDMAS__ is a handy acronym for order of operations, meaning Brackets (same as Parenthesis) then Exponents then Division/Multiplication then Addition/Subtraction."
   ]
  },
  {
   "cell_type": "markdown",
   "metadata": {},
   "source": [
    "Can we write a Python computer program to do the same thing? __Yes!__ (And we can make the program do even more!)\n",
    "\n",
    "There are lots of resources to help you learn Python.  We'll go over enough to get you started, but you'll want to check some of these sites out.\n",
    "\n",
    "http://introtopython.org/\n"
   ]
  },
  {
   "cell_type": "markdown",
   "metadata": {},
   "source": [
    "A computer program has a series of commands that are executed sequentially ... one right after the other.  These commands are executed on variables which hold values.  Python has a number of different types of variables:\n",
    "\n",
    "|Type of Variable|Meaning and Description|\n",
    "|----------------|------------------------|\n",
    "|int|an integer (whole number)|\n",
    "|float|a floating point number has a decimal point|\n",
    "|boolean|booleans are either True or False|\n",
    "|string|a series of characters (including whitespace)|\n"
   ]
  },
  {
   "cell_type": "markdown",
   "metadata": {},
   "source": [
    "When we want to see the result of a computation in a program, we print the variable that corresponds to what we wish to see.  Pyton uses the command `print` to print the value of a variable.  In the box below, type the following (you don't need to type the hashtag `#` followed by words as they are comments and not executed):\n",
    "\n",
    "```python\n",
    "dog = 3  # dog is an integer of value 3\n",
    "cat = 2  # cat is an integer of value 2\n",
    "pets = 'I have both dogs and cats at home.'  # pets is a string\n",
    "mess = dog + cat  # since dog and cat are integers, so too is mess\n",
    "print (pets)\n",
    "print ('Altogher, my pets number:')\n",
    "print (mess)\n",
    "\n",
    "\n",
    "```"
   ]
  },
  {
   "cell_type": "code",
   "execution_count": 1,
   "metadata": {
    "collapsed": false
   },
   "outputs": [],
   "source": [
    "# type your code here\n",
    "# when finished, hold down the shift key while selecting the Enter key"
   ]
  },
  {
   "cell_type": "markdown",
   "metadata": {},
   "source": [
    "Congratulations!  You have written your first Python program.  \n",
    "What did you get?\n",
    "\n",
    "Now, let's write a program to do the conversion you performed on your TI calculator.\n",
    "\n",
    "Start by assigning values to variables (name them in ways that mean something to you ... careful, you can capitalize and spell variables however you want, just remember that you'll need to use the same capitalization and spelling later as you manipulate the variables).  End with a print statement displaying your answer."
   ]
  },
  {
   "cell_type": "code",
   "execution_count": 2,
   "metadata": {
    "collapsed": true
   },
   "outputs": [],
   "source": [
    "# type your code here\n",
    "# when finished, hold down the shift key while selecting the Enter key"
   ]
  },
  {
   "cell_type": "markdown",
   "metadata": {},
   "source": [
    "Since this tutorial is about large numbers, it is time to mention some.  The average distance from the Sun to each planet in our solar system is given in the table below in a unit called the astronomical unit or AU (we'll ignore Pluto and it's controversy).\n",
    "\n",
    "|Planet|Distance (AU)|\n",
    "|----------------|------------------------|\n",
    "|Mercury|0.39|\n",
    "|Venus|0.723|\n",
    "|Earth|1|\n",
    "|Mars|1.524|\n",
    "|Jupiter|5.203|\n",
    "|Saturn|9.539|\n",
    "|Uranus|19.18|\n",
    "|Neptune|30.06|\n",
    "\n",
    "A single AU is equal to 1.495978707E12 m.  Suddenly, those reasonable numbers in the above table seem kind of large.\n",
    "\n",
    "Our next task is going to be to build a scale model of our solar system (minus Pluto) using 7 tennis balls and a meter stick.  We'll need to first convert our AU distances to meters and then devise a scale model.  Luckily, we have Python to help us out.\n",
    "\n",
    "We can create a separate variable for each distance and perform the conversion or we can save ourselves a lot of effort by putting the distances in a list and looping over the list.  A list in Python is similar to an array in other languages.\n",
    "\n",
    "We'll define a list `distance2sun` and populate it with the distances.  We define a list by assigning a variable name to items (they can be numbers, strings [each string enclosed in single 'quotes'], or a mixture) enclosed by square brackets."
   ]
  },
  {
   "cell_type": "code",
   "execution_count": 3,
   "metadata": {
    "collapsed": false
   },
   "outputs": [
    {
     "name": "stdout",
     "output_type": "stream",
     "text": [
      "Here is the list\n",
      "[0.39, 0.723, 1, 1.524, 5.203, 9.539, 19.18, 30.06]\n",
      "Here is the item indexed as the 3rd element with distance2sun[3]\n",
      "1.524\n",
      "But it is really the 4th element!\n"
     ]
    }
   ],
   "source": [
    "distance2sun=[0.39,0.723,1,1.524,5.203,9.539,19.18,30.06]\n",
    "print ('Here is the list')\n",
    "print (distance2sun)\n",
    "print ('Here is the item indexed as the 3rd element with distance2sun[3]')\n",
    "print (distance2sun[3])\n",
    "print ('But it is really the 4th element!')"
   ]
  },
  {
   "cell_type": "markdown",
   "metadata": {},
   "source": [
    "Python (like most computer languages) does not begin counting at the number 1.  Instead it starts at 0. Hence, `distance2sun[3]` is the fourth element of the list.\n",
    "\n",
    "We'll use the Python `for` command to loop through the list and print out the distances.\n",
    "\n",
    "```python\n",
    "for dist in distance2sun:\n",
    "    print('The distance to the sun is ',dist)   \n",
    "    \n",
    "```\n",
    "Note that use of the semicolon.  Python uses a semicolon at the end of many commands (if, for, while, ...).  You'll also see that the code is indented.  As Python loops through the list, each indented command is executed once.  The indentation shows what is inside the loop and what is not.\n",
    "\n",
    "Now you try the same code.\n"
   ]
  },
  {
   "cell_type": "code",
   "execution_count": 4,
   "metadata": {
    "collapsed": false
   },
   "outputs": [],
   "source": [
    "# type your code here\n",
    "# when finished, hold down the shift key while selecting the Enter key"
   ]
  },
  {
   "cell_type": "markdown",
   "metadata": {},
   "source": [
    "We can make this code a little more useful.  Make another `list` called namesofplanets that has the names of the planets (use the same order as you used for their distances).  Then we'll loop through one list and print out the name of the planet and it's distance to the sun. Then, we'll need to convert from AU's to meters.\n",
    "\n",
    "How will we know where we are in the list? We'll create a counter and increment it each time we loop. [Note, there are other ways to do this].\n",
    "\n",
    "```python\n",
    "i=0\n",
    "for dist in distance2sun:\n",
    "    print(namesofplanets[i],' is ' ,distance2sun[i], ' AUs from the sun.')\n",
    "    i=i+1\n",
    "```\n"
   ]
  },
  {
   "cell_type": "code",
   "execution_count": 5,
   "metadata": {
    "collapsed": false
   },
   "outputs": [],
   "source": [
    "# type your code here\n",
    "# start by creating the namesofplanets list and then the for loop\n",
    "# when finished, hold down the shift key while selecting the Enter key\n"
   ]
  },
  {
   "cell_type": "markdown",
   "metadata": {},
   "source": [
    "Think about how the loop is executed and where you need to place the code to convert from AUs to meters.  Then put it there!  Run the code.\n",
    "\n",
    "Aren't those numbers huge?  Remember, a meter is about the distance between your hands when stretched out.\n",
    "\n",
    "How can you make sense of those numbers?  Can you compare it to something you know, like the distance between the Gateway Arch and Times Square?\n",
    "\n",
    "Write a couple of sentences explaining how you comprend the sizes of these numbers in the box below."
   ]
  },
  {
   "cell_type": "markdown",
   "metadata": {},
   "source": [
    "(Click here and write down your thoughts)."
   ]
  },
  {
   "cell_type": "markdown",
   "metadata": {},
   "source": [
    "Now, you will need to figure out how to set up a reasonable scale model using a meter stick and the distances you've computed.  We'll be building our model along the floor of the 2nd floor of the STEM building.  So plan accordingly. \n",
    "\n",
    "Do you want to modify your program to provide you your scale distances?  I sure would."
   ]
  },
  {
   "cell_type": "code",
   "execution_count": 6,
   "metadata": {
    "collapsed": true
   },
   "outputs": [],
   "source": [
    "# type your code here\n",
    "# when finished, hold down the shift key while selecting the Enter key"
   ]
  },
  {
   "cell_type": "markdown",
   "metadata": {},
   "source": [
    "There are lots of ways to improve this code. Using the internet, find either:\n",
    "- a way to make the output look better \n",
    "- __or__ a better way to know the index of the loop so as to access both lists"
   ]
  },
  {
   "cell_type": "code",
   "execution_count": 7,
   "metadata": {
    "collapsed": true
   },
   "outputs": [],
   "source": [
    "# type your code here\n",
    "# when finished, hold down the shift key while selecting the Enter key"
   ]
  }
 ],
 "metadata": {
  "kernelspec": {
   "display_name": "Python 3",
   "language": "python",
   "name": "python3"
  },
  "language_info": {
   "codemirror_mode": {
    "name": "ipython",
    "version": 3
   },
   "file_extension": ".py",
   "mimetype": "text/x-python",
   "name": "python",
   "nbconvert_exporter": "python",
   "pygments_lexer": "ipython3",
   "version": "3.5.0"
  }
 },
 "nbformat": 4,
 "nbformat_minor": 0
}
